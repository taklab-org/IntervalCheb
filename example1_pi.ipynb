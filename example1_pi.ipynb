{
 "cells": [
  {
   "cell_type": "markdown",
   "id": "970930f0",
   "metadata": {},
   "source": [
    "# 積分計算\n",
    "\n",
    "$$\n",
    "    \\pi = \\int_0^1 \\frac{4}{1+x^2} dx\n",
    "$$"
   ]
  },
  {
   "cell_type": "code",
   "execution_count": 1,
   "id": "0b89a8b7",
   "metadata": {},
   "outputs": [
    {
     "name": "stdout",
     "output_type": "stream",
     "text": [
      "Julia Version 1.10.0\n",
      "Commit 3120989f39b (2023-12-25 18:01 UTC)\n",
      "Build Info:\n",
      "  Official https://julialang.org/ release\n",
      "Platform Info:\n",
      "  OS: macOS (arm64-apple-darwin22.4.0)\n",
      "  CPU: 8 × Apple M2\n",
      "  WORD_SIZE: 64\n",
      "  LIBM: libopenlibm\n",
      "  LLVM: libLLVM-15.0.7 (ORCJIT, apple-m1)\n",
      "  Threads: 5 on 4 virtual cores\n",
      "Environment:\n",
      "  JULIA_NUM_THREADS = 4\n"
     ]
    }
   ],
   "source": [
    "versioninfo()"
   ]
  },
  {
   "cell_type": "code",
   "execution_count": 2,
   "id": "f796ff63",
   "metadata": {},
   "outputs": [
    {
     "name": "stdout",
     "output_type": "stream",
     "text": [
      "\u001b[32m\u001b[1mStatus\u001b[22m\u001b[39m `~/.julia/environments/v1.10/Project.toml`\n",
      "\u001b[32m⌃\u001b[39m \u001b[90m[d1acc4aa] \u001b[39mIntervalArithmetic v0.22.8\n",
      "\u001b[36m\u001b[1mInfo\u001b[22m\u001b[39m Packages marked with \u001b[32m⌃\u001b[39m have new versions available and may be upgradable.\n"
     ]
    }
   ],
   "source": [
    "using IntervalArithmetic\n",
    "using Pkg; Pkg.status(\"IntervalArithmetic\")"
   ]
  },
  {
   "cell_type": "code",
   "execution_count": 3,
   "id": "f9adb1e0-38f1-4da2-b2b6-9524d6d05c70",
   "metadata": {},
   "outputs": [
    {
     "data": {
      "text/plain": [
       "chebmax (generic function with 2 methods)"
      ]
     },
     "metadata": {},
     "output_type": "display_data"
    }
   ],
   "source": [
    "include(\"IntervalCheb.jl\")"
   ]
  },
  {
   "cell_type": "markdown",
   "id": "90a7f827",
   "metadata": {},
   "source": [
    "被積分関数 $f(x) = 4/(1+x^2)$ を定義"
   ]
  },
  {
   "cell_type": "code",
   "execution_count": 4,
   "id": "fade7fe3-b53a-43ec-8851-859331049dae",
   "metadata": {},
   "outputs": [
    {
     "data": {
      "text/plain": [
       "f (generic function with 3 methods)"
      ]
     },
     "metadata": {},
     "output_type": "display_data"
    }
   ],
   "source": [
    "f(x) = 4 / (1+x^2)\n",
    "f(x::Interval{T}) where {T<:Real} = interval(4)/(interval(1) + x^2) # Define f when the input is a interval type\n",
    "f(x::Complex{Interval{T}}) where {T<:Real} = interval(4)/(interval(1) + x*x) # Define f when the input is a complex interval type"
   ]
  },
  {
   "cell_type": "markdown",
   "id": "c2eba164",
   "metadata": {},
   "source": [
    "区間 $[0,1]$ において区間チェビシェフ補間を構成する。"
   ]
  },
  {
   "cell_type": "code",
   "execution_count": 5,
   "id": "7eddf350",
   "metadata": {},
   "outputs": [
    {
     "data": {
      "text/plain": [
       "23-element Vector{Interval{Float64}}:\n",
       " [3.10754, 3.10755]_com\n",
       " [-1.06635, -1.06634]_com\n",
       " [-0.100688, -0.100687]_com\n",
       " [0.0682289, 0.068229]_com\n",
       " [-0.00752218, -0.00752217]_com\n",
       " [-0.00185697, -0.00185696]_com\n",
       " [0.000687293, 0.000687294]_com\n",
       " [-3.61477e-05, -3.61476e-05]_com\n",
       " [-2.58243e-05, -2.58242e-05]_com\n",
       " [6.33881e-06, 6.33882e-06]_com\n",
       "   ⋮\n",
       " [-3.40586e-09, -3.40585e-09]_com\n",
       " [3.65637e-10, 3.6564e-10]_com\n",
       " [9.44655e-11, 9.44674e-11]_com\n",
       " [-3.41643e-11, -3.41616e-11]_com\n",
       " [1.69401e-12, 1.69603e-12]_com\n",
       " [1.30067e-12, 1.30312e-12]_com\n",
       " [-3.14619e-13, -3.12619e-13]_com\n",
       " [-6.17217e-15, -3.63348e-15]_com\n",
       " [1.45715e-14, 1.67588e-14]_com"
      ]
     },
     "metadata": {},
     "output_type": "display_data"
    }
   ],
   "source": [
    "dom = [0,1]\n",
    "ip = interval_cheb(f,dom)"
   ]
  },
  {
   "cell_type": "code",
   "execution_count": 6,
   "id": "52a06aeb",
   "metadata": {},
   "outputs": [
    {
     "data": {
      "text/plain": [
       "2.353672812205332e-14"
      ]
     },
     "metadata": {},
     "output_type": "display_data"
    }
   ],
   "source": [
    "maximum(radius,ip)"
   ]
  },
  {
   "cell_type": "markdown",
   "id": "c33ac232",
   "metadata": {},
   "source": [
    "区間 $[0,1]$ において定積分を計算する。`iPi` が積分値の包含になっており、その区間半径は約 $1.8\\cdot 10^{-14}$ となる。"
   ]
  },
  {
   "cell_type": "code",
   "execution_count": 7,
   "id": "6bae6e3a",
   "metadata": {},
   "outputs": [
    {
     "data": {
      "text/plain": [
       "2.6645352591003757e-14"
      ]
     },
     "metadata": {},
     "output_type": "display_data"
    }
   ],
   "source": [
    "iPi = chebint(ip,dom)\n",
    "radius(iPi)"
   ]
  },
  {
   "cell_type": "code",
   "execution_count": 8,
   "id": "e7200adb-36bf-4dd2-8e7f-345d69552b0a",
   "metadata": {},
   "outputs": [
    {
     "data": {
      "text/plain": [
       "pi_int (generic function with 1 method)"
      ]
     },
     "metadata": {},
     "output_type": "display_data"
    }
   ],
   "source": [
    "include(\"IntervalCheb.jl\")\n",
    "function pi_int()\n",
    "    dom = [0, 1]\n",
    "    f(x) = 4 / (1+x^2)\n",
    "    f(x::Complex{Interval{T}}) where {T} = interval(4)/(interval(1) + x*x)\n",
    "    f(x::Interval{T}) where {T} = interval(4)/(interval(1) + x^2)\n",
    "    # ia = interval_cheb(f,interval(2^-52),2^-3)\n",
    "    # return chebint(ia) / interval(2)\n",
    "    return chebint(interval_cheb(f,dom),dom)\n",
    "end"
   ]
  },
  {
   "cell_type": "markdown",
   "id": "22af5db9",
   "metadata": {},
   "source": [
    "全ての過程を一つの関数としてまとめて、実行時間を計測する。"
   ]
  },
  {
   "cell_type": "code",
   "execution_count": 9,
   "id": "d8ad5aa1-d975-490e-84e4-3bea64c3a9f7",
   "metadata": {},
   "outputs": [
    {
     "name": "stdout",
     "output_type": "stream",
     "text": [
      "  0.046831 seconds (42.94 k allocations: 3.040 MiB, 217.43% compilation time)\n",
      "  0.000282 seconds (724 allocations: 177.172 KiB)\n",
      "  0.000249 seconds (724 allocations: 177.422 KiB)\n",
      "  0.000268 seconds (723 allocations: 177.062 KiB)\n",
      "  0.000228 seconds (724 allocations: 177.094 KiB)\n"
     ]
    },
    {
     "data": {
      "text/plain": [
       "[3.14159, 3.1416]_com"
      ]
     },
     "metadata": {},
     "output_type": "display_data"
    }
   ],
   "source": [
    "@time pi_int()\n",
    "@time pi_int()\n",
    "@time pi_int()\n",
    "@time pi_int()\n",
    "@time iPi = pi_int()"
   ]
  },
  {
   "cell_type": "code",
   "execution_count": 10,
   "id": "307e1cab-218c-4b1e-9e19-92fceac7a080",
   "metadata": {},
   "outputs": [
    {
     "data": {
      "text/plain": [
       "2.6645352591003757e-14"
      ]
     },
     "metadata": {},
     "output_type": "display_data"
    }
   ],
   "source": [
    "radius(pi_int())"
   ]
  },
  {
   "cell_type": "markdown",
   "id": "899e7b1d",
   "metadata": {},
   "source": [
    "計算して得られた積分値 `iPi` は $\\pi$ を包含していることが確認できる。"
   ]
  },
  {
   "cell_type": "code",
   "execution_count": 11,
   "id": "d14bd34d-8a65-4ff1-bb82-501113806651",
   "metadata": {},
   "outputs": [
    {
     "data": {
      "text/plain": [
       "true"
      ]
     },
     "metadata": {},
     "output_type": "display_data"
    }
   ],
   "source": [
    "issubset_interval(interval(π),iPi)\n",
    "# @show bitstring(sup(interval(π)))\n",
    "# @show bitstring(inf(interval(π)))"
   ]
  },
  {
   "cell_type": "code",
   "execution_count": 12,
   "id": "6b3c5caf",
   "metadata": {},
   "outputs": [
    {
     "data": {
      "text/plain": [
       "4.440892098500626e-16"
      ]
     },
     "metadata": {},
     "output_type": "display_data"
    }
   ],
   "source": [
    "radius(interval(π))"
   ]
  }
 ],
 "metadata": {
  "kernelspec": {
   "display_name": "Julia 1.10.0",
   "language": "julia",
   "name": "julia-1.10"
  },
  "language_info": {
   "file_extension": ".jl",
   "mimetype": "application/julia",
   "name": "julia",
   "version": "1.10.0"
  }
 },
 "nbformat": 4,
 "nbformat_minor": 5
}
