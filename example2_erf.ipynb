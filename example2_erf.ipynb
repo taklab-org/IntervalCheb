{
 "cells": [
  {
   "cell_type": "markdown",
   "id": "c842d771",
   "metadata": {},
   "source": [
    "# 誤差関数の区間演算\n",
    "誤差関数\n",
    "$$\n",
    "\\mathrm{erf}(x) = \\frac{2}{\\sqrt{\\pi}}\\int_0^x e^{-t^2} dt\n",
    "$$\n",
    "の被積分関数のChebyshev補間(区間演算)とその補間誤差の計算を行う。"
   ]
  },
  {
   "cell_type": "code",
   "execution_count": 1,
   "id": "7b944d33",
   "metadata": {},
   "outputs": [
    {
     "name": "stdout",
     "output_type": "stream",
     "text": [
      "Julia Version 1.10.0\n",
      "Commit 3120989f39b (2023-12-25 18:01 UTC)\n",
      "Build Info:\n",
      "  Official https://julialang.org/ release\n",
      "Platform Info:\n",
      "  OS: macOS (arm64-apple-darwin22.4.0)\n",
      "  CPU: 8 × Apple M2\n",
      "  WORD_SIZE: 64\n",
      "  LIBM: libopenlibm\n",
      "  LLVM: libLLVM-15.0.7 (ORCJIT, apple-m1)\n",
      "  Threads: 5 on 4 virtual cores\n",
      "Environment:\n",
      "  JULIA_NUM_THREADS = 4\n"
     ]
    }
   ],
   "source": [
    "versioninfo()"
   ]
  },
  {
   "cell_type": "code",
   "execution_count": 2,
   "id": "8b642423",
   "metadata": {},
   "outputs": [
    {
     "data": {
      "text/plain": [
       "chebmin (generic function with 2 methods)"
      ]
     },
     "metadata": {},
     "output_type": "display_data"
    }
   ],
   "source": [
    "include(\"IntervalCheb.jl\")"
   ]
  },
  {
   "cell_type": "code",
   "execution_count": 3,
   "id": "c376345c",
   "metadata": {},
   "outputs": [
    {
     "data": {
      "text/plain": [
       "f (generic function with 3 methods)"
      ]
     },
     "metadata": {},
     "output_type": "display_data"
    }
   ],
   "source": [
    "f(x) = exp(-x^2) #erf関数の被積分関数: 2 / sqrt(π)は後でかける\n",
    "f(x::Interval{T}) where {T<:Real} = exp(-x^interval(2)) #*(interval(2) / sqrt(interval(π)))\n",
    "f(x::Complex{Interval{T}}) where {T<:Real} = exp(-x * x)"
   ]
  },
  {
   "cell_type": "markdown",
   "id": "fee5c106",
   "metadata": {},
   "source": [
    "## 不定積分による実装 `erf1(x)`\n",
    "手順\n",
    "\n",
    "1. 誤差関数の被積分関数 $f(t) = \\frac{2}{\\sqrt{\\pi}}e^{-t^2}$ に対して $[0,L]$ ($x<L$, $x$は誤差関数に対する入力値)で区間チェビシェフ補間 $p(t)$ を構成する。\n",
    "1. 区間チェビシェフ補間の不定積分 $P(t)=\\int p(t)dt$ を $P(0)=0$ となるよう区間演算で計算する。\n",
    "1. 不定積分 $P(t)$ に $t=x$ における区間チェビシェフ補間の関数値を区間演算する。\n",
    "\n",
    "\n",
    "Step 1. 区間チェビシェフ補間を構成する。"
   ]
  },
  {
   "cell_type": "code",
   "execution_count": 4,
   "id": "ed1bf126",
   "metadata": {},
   "outputs": [
    {
     "data": {
      "text/plain": [
       "40-element Vector{Float64}:\n",
       " 9.120482147295661e-14\n",
       " 4.440892098500626e-16\n",
       " 3.3306690738754696e-16\n",
       " 3.0531133177191805e-16\n",
       " 1.3183898417423734e-16\n",
       " 2.498001805406602e-16\n",
       " 1.942890293094024e-16\n",
       " 2.8102520310824275e-16\n",
       " 1.214306433183765e-16\n",
       " 2.8015784137025435e-16\n",
       " ⋮\n",
       " 2.8896601897334286e-16\n",
       " 9.020562075079397e-17\n",
       " 2.889660189668805e-16\n",
       " 2.2317900473716653e-16\n",
       " 2.5163781088123246e-16\n",
       " 1.275777258187477e-16\n",
       " 2.385147739033042e-16\n",
       " 1.896699485441491e-16\n",
       " 2.7416228160769545e-16"
      ]
     },
     "metadata": {},
     "output_type": "display_data"
    }
   ],
   "source": [
    "dom = [0, 6] # L = 6\n",
    "ia = interval_cheb(f, dom)\n",
    "radius.(ia)\n",
    "# include(\"IntervalCheb.jl\")\n",
    "# setprecision(BigFloat, 102)\n",
    "# ia = biginterval_cheb(f, dom, ϵ=interval(eps(BigFloat)),tolerance=5e-23)\n",
    "# radius.(ia)"
   ]
  },
  {
   "cell_type": "markdown",
   "id": "bd1cefd7",
   "metadata": {},
   "source": [
    "Step 2. 不定積分を計算する"
   ]
  },
  {
   "cell_type": "code",
   "execution_count": 5,
   "id": "deb1c614",
   "metadata": {},
   "outputs": [
    {
     "data": {
      "text/plain": [
       "41-element Vector{Interval{Float64}}:\n",
       " [0.723427, 0.723428]_com\n",
       " [0.297923, 0.297924]_com\n",
       " [-0.226424, -0.226423]_com\n",
       " [0.138759, 0.13876]_com\n",
       " [-0.0631519, -0.0631518]_com\n",
       " [0.0151949, 0.015195]_com\n",
       " [0.00530273, 0.00530274]_com\n",
       " [-0.00825034, -0.00825033]_com\n",
       " [0.00460028, 0.00460029]_com\n",
       " [-0.00104253, -0.00104252]_com\n",
       "   ⋮\n",
       " [3.17042e-12, 3.17048e-12]_com\n",
       " [-5.19598e-13, -5.19568e-13]_com\n",
       " [-2.35906e-13, -2.35857e-13]_com\n",
       " [1.21814e-13, 1.21845e-13]_com\n",
       " [-4.44515e-15, -4.40429e-15]_com\n",
       " [-1.23571e-14, -1.23313e-14]_com\n",
       " [3.44841e-15, 3.48889e-15]_com\n",
       " [5.21975e-16, 5.36566e-16]_com\n",
       " [-4.44398e-16, -4.23835e-16]_com"
      ]
     },
     "metadata": {},
     "output_type": "display_data"
    }
   ],
   "source": [
    "iA = chebindefint(ia, dom)\n",
    "# radius.(iA)\n",
    "# plot_cheb(mid.(iA),I=dom)\n",
    "# plot!(erf,dom[1],dom[2])"
   ]
  },
  {
   "cell_type": "markdown",
   "id": "3d44d58b",
   "metadata": {},
   "source": [
    "Step 3. $t=x$ における関数値を区間演算する。"
   ]
  },
  {
   "cell_type": "code",
   "execution_count": 6,
   "id": "9eca9640",
   "metadata": {},
   "outputs": [
    {
     "data": {
      "text/plain": [
       "erf1 (generic function with 1 method)"
      ]
     },
     "metadata": {},
     "output_type": "display_data"
    }
   ],
   "source": [
    "# erf1(x) = eval_interval_cheb(iA, x, I=dom) * (interval(2) / sqrt(interval(π)))\n",
    "erf1(x::T) where {T} = eval_interval_cheb(iA, x, dom) * (interval(2) / sqrt(interval(T,π)))"
   ]
  },
  {
   "cell_type": "code",
   "execution_count": 7,
   "id": "f56a2e35",
   "metadata": {},
   "outputs": [
    {
     "name": "stdout",
     "output_type": "stream",
     "text": [
      "erf(x) = 0.1124629160182849\n",
      "erf1(x) = Interval{Float64}(0.11246291601766975, 0.11246291601890017, com)\n"
     ]
    }
   ],
   "source": [
    "using SpecialFunctions\n",
    "x = (.1)\n",
    "@show erf(x)\n",
    "@show (erf1(x));"
   ]
  },
  {
   "cell_type": "code",
   "execution_count": 8,
   "id": "2334cdf9",
   "metadata": {},
   "outputs": [
    {
     "data": {
      "text/plain": [
       "true"
      ]
     },
     "metadata": {},
     "output_type": "display_data"
    }
   ],
   "source": [
    "xx = dom[1]:0.1:dom[2]\n",
    "issubset_interval(interval(erf.(xx)), erf1.(xx))"
   ]
  },
  {
   "cell_type": "code",
   "execution_count": 9,
   "id": "7f42fa9e",
   "metadata": {},
   "outputs": [
    {
     "data": {
      "text/plain": [
       "9.120482147295661e-14"
      ]
     },
     "metadata": {},
     "output_type": "display_data"
    }
   ],
   "source": [
    "# maximum(radius, erf1.((xx)))\n",
    "maximum(radius, ia)"
   ]
  },
  {
   "cell_type": "markdown",
   "id": "9e0f1165",
   "metadata": {},
   "source": [
    "以上をまとめて `erf1` という関数を作成する。"
   ]
  },
  {
   "cell_type": "code",
   "execution_count": 10,
   "id": "cc9d0fc2",
   "metadata": {},
   "outputs": [
    {
     "data": {
      "text/plain": [
       "erf1 (generic function with 1 method)"
      ]
     },
     "metadata": {},
     "output_type": "display_data"
    }
   ],
   "source": [
    "dom = [0.0, 6.0]\n",
    "ia = interval_cheb(f, dom, ϵ=interval(2^-67))\n",
    "iA = chebindefint(ia, dom)\n",
    "function erf_point(x::Float64, dom, iA)\n",
    "    if x > 5.864\n",
    "        return interval(1-2^-53,1)\n",
    "    elseif x < -5.864\n",
    "        return interval(-1, -1+2^-53)\n",
    "    # elseif dom[2] < x\n",
    "    #     # dom = [0, x]\n",
    "    #     # iA = chebindefint(interval_cheb(f, dom), I=dom)\n",
    "    #     # return eval_interval_cheb(iA, x, I=dom) * (interval(2) / sqrt(interval(π)))\n",
    "    #     dom = [0, x]\n",
    "    #     ia = interval_cheb(f, dom)\n",
    "    #     return chebint(ia, dom) * (interval(2) / sqrt(interval(π)))\n",
    "    # elseif x < -dom[2]\n",
    "    #     # dom = [0, -x]\n",
    "    #     # iA = chebindefint(interval_cheb(f, dom), I=dom)\n",
    "    #     # return -eval_interval_cheb(iA, -x, I=dom) * (interval(2) / sqrt(interval(π)))\n",
    "    #     dom = [0, -x]\n",
    "    #     ia = interval_cheb(f, dom)\n",
    "    #     return chebint(ia, dom) * (interval(2) / sqrt(interval(π)))\n",
    "    else\n",
    "        if x == 0\n",
    "            return 0\n",
    "        elseif x > 0\n",
    "            return eval_interval_cheb(iA, x, dom) * (interval(2) / sqrt(interval(π)))\n",
    "        else\n",
    "            return -eval_interval_cheb(iA, -x, dom) * (interval(2) / sqrt(interval(π)))\n",
    "        end\n",
    "    end\n",
    "end\n",
    "erf1(x) = erf_point(x, dom, iA)"
   ]
  },
  {
   "cell_type": "markdown",
   "id": "212475ce",
   "metadata": {},
   "source": [
    "## 定積分による実装 `erf2(x)`\n",
    "手順\n",
    "\n",
    "1. 誤差関数の被積分関数 $f(t) = \\frac{2}{\\sqrt{\\pi}}e^{-t^2}$ を $[0,x]$ ($x$ は誤差関数に対する入力値)において区間チェビシェフ補間 $p(t)$ を構成する。\n",
    "1. 区間チェビシェフ補間 $p(t)$ の定積分 $\\int_0^x f(t)dt$ を区間演算に基づき計算する。\n"
   ]
  },
  {
   "cell_type": "code",
   "execution_count": 11,
   "id": "2a698814",
   "metadata": {},
   "outputs": [
    {
     "data": {
      "text/plain": [
       "erf2 (generic function with 1 method)"
      ]
     },
     "metadata": {},
     "output_type": "display_data"
    }
   ],
   "source": [
    "function erf2(x)\n",
    "    if x == 0\n",
    "        return 0\n",
    "    elseif x > 0\n",
    "        dom = [0, x]\n",
    "        ia = interval_cheb(f, dom, ϵ=interval(2^-67)) # Step 1\n",
    "        return chebint(ia, dom) * (interval(2) / sqrt(interval(π))) # Step 2\n",
    "    else\n",
    "        dom = [0, -x]\n",
    "        ia = interval_cheb(f, dom, ϵ=interval(2^-67))\n",
    "        return -chebint(ia, dom) * (interval(2) / sqrt(interval(π)))\n",
    "    end\n",
    "end"
   ]
  },
  {
   "cell_type": "markdown",
   "id": "c0ef5931",
   "metadata": {},
   "source": [
    "上の方法と同じであるが、変数変換をして\n",
    "$$\n",
    "    \\mathrm{erf}(x) = \\frac{2}{\\sqrt{\\pi}}\\int_0^x {e}^{-t^2}{d}t =\\frac{x}{\\sqrt{\\pi}}\\int_{-1}^1 {e}^{-(x(\\xi+1)/2)^2}{d}\\xi\n",
    "$$\n",
    "という形で計算する方法もある。これを `erf3(x)` として実装する。"
   ]
  },
  {
   "cell_type": "code",
   "execution_count": 12,
   "id": "fc3aa96c",
   "metadata": {},
   "outputs": [
    {
     "data": {
      "text/plain": [
       "erf3 (generic function with 1 method)"
      ]
     },
     "metadata": {},
     "output_type": "display_data"
    }
   ],
   "source": [
    "function erf3(x)\n",
    "    g(ξ) = f(x * (ξ + 1) / 2)\n",
    "    g(ξ::Interval{T}) where {T<:Real} = f(interval(x) * (ξ + interval(1)) / interval(2))\n",
    "    g(ξ::Complex{Interval{T}}) where {T<:Real} = f(interval(x) * (ξ + interval(1)) / interval(2))\n",
    "    ia = interval_cheb(g, ϵ=interval(2^-67))\n",
    "    return chebint(ia) * interval(x) / sqrt(interval(π))\n",
    "end"
   ]
  },
  {
   "cell_type": "markdown",
   "id": "73170199",
   "metadata": {},
   "source": [
    "### 各方法 `erf1`, `erf2`, `erf3` を比較してみる"
   ]
  },
  {
   "cell_type": "code",
   "execution_count": 13,
   "id": "5c0a3b5a",
   "metadata": {},
   "outputs": [
    {
     "name": "stdout",
     "output_type": "stream",
     "text": [
      "erf(x) = -0.9983878320616982\n",
      "erf1(x) = Interval{Float64}(-0.998387832061743, -0.9983878320616529, com)\n",
      "erf2(x) = Interval{Float64}(-0.9983878320617238, -0.9983878320616729, com)\n",
      "erf3(x) = Interval{Float64}(-0.9983878320617237, -0.998387832061673, com)\n"
     ]
    }
   ],
   "source": [
    "x = -2.23\n",
    "@show erf(x)\n",
    "@show (erf1(x))\n",
    "@show (erf2(x))\n",
    "@show (erf3(x));"
   ]
  },
  {
   "cell_type": "markdown",
   "id": "621b8afd",
   "metadata": {},
   "source": [
    "区間$[-6,6]$上のランダムに与えた150点に対して、誤差関数の関数値を区間演算で計算し、その区間半径の最大と実行時間を計算する。"
   ]
  },
  {
   "cell_type": "code",
   "execution_count": 14,
   "id": "d41449be",
   "metadata": {},
   "outputs": [
    {
     "name": "stdout",
     "output_type": "stream",
     "text": [
      "maximum(radius, erf1.(xx)) = 6.52811138479592e-14\n",
      "  0.022278 seconds (63.67 k allocations: 4.672 MiB, 91.04% compilation time)\n",
      "maximum(radius, erf1.(xx)) = 6.52811138479592e-14\n",
      "  0.001969 seconds (1.51 k allocations: 420.523 KiB)\n",
      "maximum(radius, erf2.(xx)) = 1.8073320617872923e-12\n",
      "  0.092604 seconds (887.72 k allocations: 60.403 MiB, 4.77% gc time, 52.83% compilation time)\n",
      "maximum(radius, erf2.(xx)) = 1.8073320617872923e-12\n",
      "  0.042867 seconds (767.66 k allocations: 51.903 MiB, 8.83% gc time)\n",
      "maximum(radius, erf3.(xx)) = 1.8073320617872923e-12\n",
      "  0.055268 seconds (821.03 k allocations: 54.856 MiB, 6.44% gc time, 21.27% compilation time)\n",
      "maximum(radius, erf3.(xx)) = 1.8073320617872923e-12\n",
      "  0.043786 seconds (767.34 k allocations: 51.169 MiB, 9.35% gc time)\n"
     ]
    }
   ],
   "source": [
    "# xx = -6:0.1:6\n",
    "n = 150\n",
    "xx = 6(2rand(n).-1)\n",
    "@time @show maximum(radius, erf1.(xx))\n",
    "@time @show maximum(radius, erf1.(xx))\n",
    "@time @show maximum(radius, erf2.(xx))\n",
    "@time @show maximum(radius, erf2.(xx))\n",
    "@time @show maximum(radius, erf3.(xx))\n",
    "@time @show maximum(radius, erf3.(xx));"
   ]
  },
  {
   "cell_type": "markdown",
   "id": "f9e6de18",
   "metadata": {},
   "source": [
    "計算時間は事前に計算しておいた不定積分のチェビシェフ係数を利用できる `erf1` が最も早い。計算制度についても `erf1` が最も高精度であることが確認された。"
   ]
  },
  {
   "cell_type": "markdown",
   "id": "a5467994",
   "metadata": {},
   "source": [
    "以上から `IntervalArithmetic.jl` を使った `erf` 関数の区間演算の実装は以下のようになる。誤差関数は単調増加関数のため、入力の区間の端点で誤差関数の値を区間演算して、それぞれ下端、上端にすることで区間演算は実装できる。"
   ]
  },
  {
   "cell_type": "code",
   "execution_count": 15,
   "id": "724f4664",
   "metadata": {},
   "outputs": [
    {
     "data": {
      "text/plain": [
       "ierf (generic function with 2 methods)"
      ]
     },
     "metadata": {},
     "output_type": "display_data"
    }
   ],
   "source": [
    "dom = [0, 6]\n",
    "ia = interval_cheb(f, dom)\n",
    "iA = chebindefint(ia, dom)\n",
    "function erf_point(x::Float64, dom, iA)\n",
    "    if x > 5.864\n",
    "        return interval(1-2^-53,1)\n",
    "    elseif x < -5.864\n",
    "        return interval(-1, -1+2^-53)\n",
    "    # elseif dom[2] < x\n",
    "    #     # dom = [0, x]\n",
    "    #     # iA = chebindefint(interval_cheb(f, dom), I=dom)\n",
    "    #     # return eval_interval_cheb(iA, x, I=dom) * (interval(2) / sqrt(interval(π)))\n",
    "    #     dom = [0, x]\n",
    "    #     ia = interval_cheb(f, dom)\n",
    "    #     return chebint(ia, dom) * (interval(2) / sqrt(interval(π)))\n",
    "    # elseif x < -dom[2]\n",
    "    #     # dom = [0, -x]\n",
    "    #     # iA = chebindefint(interval_cheb(f, dom), I=dom)\n",
    "    #     # return -eval_interval_cheb(iA, -x, I=dom) * (interval(2) / sqrt(interval(π)))\n",
    "    #     dom = [0, -x]\n",
    "    #     ia = interval_cheb(f, dom)\n",
    "    #     return chebint(ia, dom) * (interval(2) / sqrt(interval(π)))\n",
    "    else\n",
    "        if x == 0\n",
    "            return 0\n",
    "        elseif x > 0\n",
    "            return eval_interval_cheb(iA, x, dom) * (interval(2) / sqrt(interval(π)))\n",
    "        else\n",
    "            return -eval_interval_cheb(iA, -x, dom) * (interval(2) / sqrt(interval(π)))\n",
    "        end\n",
    "    end\n",
    "end\n",
    "\n",
    "import SpecialFunctions: erf\n",
    "erf(x::Interval{T}) where {T<:Real} = interval(erf_point(inf(x), dom, iA), erf_point(sup(x), dom, iA))\n",
    "ierf(x) = erf_point(x, dom, iA)"
   ]
  },
  {
   "cell_type": "code",
   "execution_count": 16,
   "id": "3e94fa7a",
   "metadata": {},
   "outputs": [
    {
     "data": {
      "text/plain": [
       "(-0.8427007929497149, 0.9953222650189527)"
      ]
     },
     "metadata": {},
     "output_type": "display_data"
    }
   ],
   "source": [
    "erf(-1), erf(2)"
   ]
  },
  {
   "cell_type": "code",
   "execution_count": 17,
   "id": "3f912f4d",
   "metadata": {},
   "outputs": [
    {
     "data": {
      "text/plain": [
       "[-0.842701, 0.995323]_com"
      ]
     },
     "metadata": {},
     "output_type": "display_data"
    }
   ],
   "source": [
    "erf(interval(-1, 2))"
   ]
  },
  {
   "cell_type": "code",
   "execution_count": 18,
   "id": "6147aeaa",
   "metadata": {},
   "outputs": [
    {
     "name": "stdout",
     "output_type": "stream",
     "text": [
      "  0.002018 seconds (170 allocations: 9.875 KiB, 98.28% compilation time)\n"
     ]
    },
    {
     "data": {
      "text/plain": [
       "4.214406601477094e-13"
      ]
     },
     "metadata": {},
     "output_type": "display_data"
    }
   ],
   "source": [
    "@time radius(ierf(2.))"
   ]
  },
  {
   "cell_type": "markdown",
   "id": "edd8836d-29b2-4abf-9871-0e9403bcbc77",
   "metadata": {},
   "source": [
    "## 誤差関数の区間演算（引数が複素数の時）"
   ]
  },
  {
   "cell_type": "code",
   "execution_count": 19,
   "id": "16803ad5-52aa-4ae6-b9e3-b692f28e1e5a",
   "metadata": {},
   "outputs": [
    {
     "data": {
      "text/plain": [
       "chebmin (generic function with 2 methods)"
      ]
     },
     "metadata": {},
     "output_type": "display_data"
    }
   ],
   "source": [
    "include(\"IntervalCheb.jl\")"
   ]
  },
  {
   "cell_type": "markdown",
   "id": "fcec31d2",
   "metadata": {},
   "source": [
    "$$\n",
    "    \\mathrm{erf}(z) = \\frac{2}{\\sqrt{\\pi}}\\int_0^z {e}^{-t^2}{d}t =\\frac{z}{\\sqrt{\\pi}}\\int_{-1}^1 {e}^{-(z(\\xi+1)/2)^2}{d}\\xi\n",
    "$$"
   ]
  },
  {
   "cell_type": "code",
   "execution_count": 20,
   "id": "d2a45494-8ac0-4736-9e0a-7b7c0df0bf00",
   "metadata": {},
   "outputs": [
    {
     "data": {
      "text/plain": [
       "interval_chebcoeffs_complex (generic function with 2 methods)"
      ]
     },
     "metadata": {},
     "output_type": "display_data"
    }
   ],
   "source": [
    "function interval_chebcoeffs_complex(f, M, I=[-1, 1])\n",
    "    a = I[1]\n",
    "    b = I[2]\n",
    "    n = M - 1\n",
    "    cpts = interval_chebpts(n, a, b)\n",
    "    fvals = f.(cpts)\n",
    "    FourierCoeffs = verifyfft([reverse(fvals); fvals[2:end-1]]) # the length of this must be power of 2\n",
    "    ChebCoeffs = FourierCoeffs[1:n+1] / interval(n)\n",
    "    ChebCoeffs[1] = ChebCoeffs[1] / interval(2)\n",
    "    ChebCoeffs[end] = ChebCoeffs[end] / interval(2)\n",
    "    return ChebCoeffs # return Two-sided Chebyshev\n",
    "end"
   ]
  },
  {
   "cell_type": "code",
   "execution_count": 21,
   "id": "225168a9",
   "metadata": {},
   "outputs": [
    {
     "data": {
      "text/plain": [
       "interval_cheb_complex (generic function with 2 methods)"
      ]
     },
     "metadata": {},
     "output_type": "display_data"
    }
   ],
   "source": [
    "function interval_cheb_complex(f, I=[-1, 1]; ϵ=interval(2^-52), div=2^-3) # for general func\n",
    "    a = cheb_complex(f, I)\n",
    "    M = length(a) # Set M\n",
    "    M̃ = nextpow(2, M) + 1 # Set M̃\n",
    "    ia = interval_chebcoeffs_complex(f, M̃, I) # Coeffs of p̃(x)\n",
    "    # Truncation error is in the zero mode\n",
    "    ia = truncCheb(ia, M) # Coeffs of Πₘp̃(x)\n",
    "    # Set rho of Bernstein ellipse\n",
    "    rho = ϵ^(-interval(1) / (interval(M̃) - interval(1)))\n",
    "    I1 = interval(I[1])\n",
    "    I2 = interval(I[2])\n",
    "    i1 = interval(1)\n",
    "    i2 = interval(2)\n",
    "    g(ξ) = f((i1 - ξ) / i2 * I1 + (i1 + ξ) / i2 * I2)\n",
    "    fz = fzeval(g, rho, div) # Evaluate f(z)\n",
    "    # Interpolation error via Bernstein ellipse is also in the zero mode\n",
    "    err = (interval(4) * rho^(-(interval(M̃) - interval(1))) / (rho - interval(1))) * interval(fz)\n",
    "    # midrad form of interval Cheb interpolation\n",
    "    ia[1] = ia[1] + interval(0, err; format=:midpoint)\n",
    "    return ia\n",
    "end"
   ]
  },
  {
   "cell_type": "code",
   "execution_count": 22,
   "id": "a25d28bc",
   "metadata": {},
   "outputs": [
    {
     "data": {
      "text/plain": [
       "chebint (generic function with 5 methods)"
      ]
     },
     "metadata": {},
     "output_type": "display_data"
    }
   ],
   "source": [
    "function chebint(a::Vector{Complex{Interval{T}}}; I=[-1, 1]) where {T<:Real} # Input is Two-sided\n",
    "    M = length(a)\n",
    "    n = interval(Vector(0:2:M-1))\n",
    "    # @show sum(2*a[1:2:end]./(1.0 .- n.^2))*((I[2]-I[1])/2)\n",
    "    i2 = interval(2.0)\n",
    "    i1 = interval(1.0)\n",
    "    return sum(i2 * a[1:2:end] ./ (i1 .- n .^ i2)) * ((interval(I[2]) - interval(I[1])) / i2)\n",
    "end"
   ]
  },
  {
   "cell_type": "code",
   "execution_count": 23,
   "id": "b6ddd759",
   "metadata": {},
   "outputs": [
    {
     "data": {
      "text/plain": [
       "1.0 + 0.1im"
      ]
     },
     "metadata": {},
     "output_type": "display_data"
    }
   ],
   "source": [
    "iz = interval(1.0 + 0.1im)\n",
    "z = mid(iz)\n"
   ]
  },
  {
   "cell_type": "code",
   "execution_count": 24,
   "id": "59885d3e",
   "metadata": {},
   "outputs": [
    {
     "data": {
      "text/plain": [
       "g (generic function with 3 methods)"
      ]
     },
     "metadata": {},
     "output_type": "display_data"
    }
   ],
   "source": [
    "f(x) = exp(-x^2) #erf関数の被積分関数: 2 / sqrt(π)は後でかける\n",
    "f(x::Interval{T}) where {T<:Real} = exp(-x^interval(2)) #*(interval(2) / sqrt(interval(π)))\n",
    "f(x::Complex{Interval{T}}) where {T<:Real} = exp(-x * x)\n",
    "g(ξ) = f((z / 2) .* (ξ + 1))\n",
    "g(ξ::Interval{T}) where {T<:Real} = f((iz / interval(2)) .* (ξ + interval(1)))\n",
    "g(ξ::Complex{Interval{T}}) where {T<:Real} = f((iz / interval(2)) .* (ξ + interval(1)))\n"
   ]
  },
  {
   "cell_type": "code",
   "execution_count": 25,
   "id": "48fe8c2c",
   "metadata": {},
   "outputs": [
    {
     "data": {
      "text/plain": [
       "[0.846858, 0.846859]_com + ([0.0413716, 0.0413717]_com)im"
      ]
     },
     "metadata": {},
     "output_type": "display_data"
    }
   ],
   "source": [
    "ia = interval_cheb_complex(g)\n",
    "# chebint(ia)\n",
    "(interval(z) / sqrt(interval(π))) * chebint(ia)"
   ]
  },
  {
   "cell_type": "code",
   "execution_count": 26,
   "id": "e3bd9ccb",
   "metadata": {},
   "outputs": [
    {
     "data": {
      "text/plain": [
       "0.8468587817220126 + 0.04137168721306572im"
      ]
     },
     "metadata": {},
     "output_type": "display_data"
    }
   ],
   "source": [
    "erf(z)"
   ]
  },
  {
   "cell_type": "code",
   "execution_count": 27,
   "id": "992b5c80",
   "metadata": {},
   "outputs": [
    {
     "data": {
      "text/plain": [
       "ierf (generic function with 2 methods)"
      ]
     },
     "metadata": {},
     "output_type": "display_data"
    }
   ],
   "source": [
    "function erf(iz::Complex{Interval{T}}) where {T<:Real}\n",
    "    z = mid(iz)\n",
    "    f(x) = exp(-x^2) #erf関数の被積分関数: 2 / sqrt(π)は後でかける\n",
    "    f(x::Interval{T}) where {T<:Real} = exp(-x^interval(2)) #*(interval(2) / sqrt(interval(π)))\n",
    "    f(x::Complex{Interval{T}}) where {T<:Real} = exp(-x * x)\n",
    "    g(ξ) = f((z / 2) .* (ξ + 1))\n",
    "    g(ξ::Interval{T}) where {T<:Real} = f((iz / interval(2)) .* (ξ + interval(1)))\n",
    "    g(ξ::Complex{Interval{T}}) where {T<:Real} = f((iz / interval(2)) .* (ξ + interval(1)))\n",
    "    return (interval(z) / sqrt(interval(π))) * chebint(interval_cheb_complex(g))\n",
    "end\n",
    "\n",
    "ierf(z::Complex{T}) where {T<:Real} = erf(interval(z))"
   ]
  },
  {
   "cell_type": "code",
   "execution_count": 28,
   "id": "2b72df6b-bb43-41c4-b062-6a388c382782",
   "metadata": {},
   "outputs": [
    {
     "data": {
      "text/plain": [
       "5-element Vector{Complex{Interval{Float64}}}:\n",
       "                                            [-1.06766, -1.06765]_com + ([0.0221192, 0.0221193]_com)im\n",
       "                                              [0.651669, 0.65167]_com + ([0.213857, 0.213858]_com)im\n",
       " [-0.136954, -0.136953]_com + ([-0.723649, -0.723648]_com)im\n",
       "  [-0.362496, -0.362495]_com + ([-1.00451, -1.0045]_com)im\n",
       "                                               [1.20031, 1.20032]_com + ([0.062666, 0.0626661]_com)im"
      ]
     },
     "metadata": {},
     "output_type": "display_data"
    }
   ],
   "source": [
    "r = randn(5)\n",
    "i = randn(5)\n",
    "z = Complex.(r, i)\n",
    "iz = interval(z)\n",
    "erf.(iz)"
   ]
  },
  {
   "cell_type": "code",
   "execution_count": 29,
   "id": "9ff66acf",
   "metadata": {},
   "outputs": [
    {
     "data": {
      "text/plain": [
       "5-element Vector{ComplexF64}:\n",
       "  -1.0676534401094917 + 0.0221192204696726im\n",
       "   0.6516697119747095 + 0.21385781957176478im\n",
       " -0.13695347241795452 - 0.7236481766523777im\n",
       "  -0.3624957847444986 - 1.00450427789555im\n",
       "   1.2003121283880411 + 0.06266604601336613im"
      ]
     },
     "metadata": {},
     "output_type": "display_data"
    }
   ],
   "source": [
    "erf.(z)"
   ]
  }
 ],
 "metadata": {
  "kernelspec": {
   "display_name": "Julia 1.10.0",
   "language": "julia",
   "name": "julia-1.10"
  },
  "language_info": {
   "file_extension": ".jl",
   "mimetype": "application/julia",
   "name": "julia",
   "version": "1.10.0"
  }
 },
 "nbformat": 4,
 "nbformat_minor": 5
}
